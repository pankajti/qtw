{
 "cells": [
  {
   "cell_type": "code",
   "execution_count": null,
   "metadata": {},
   "outputs": [],
   "source": []
  },
  {
   "cell_type": "code",
   "execution_count": null,
   "metadata": {},
   "outputs": [],
   "source": [
    "ubase = \"http://www.cherryblossom.org/\"\n",
    "\n",
    "\n",
    "def scrap_runs(urls, gender):\n",
    "    for rel_url in urls:\n",
    "        url = urllib.parse.urljoin(ubase, rel_url)\n",
    "        year = re.search('/(\\d{4})', url)[0][1:]\n",
    "        print(url)\n",
    "        response = requests.get(url)\n",
    "        soup = BeautifulSoup(response.content)\n",
    "        if year == '2000':\n",
    "            result = soup.find(face=\"Courier New\").get_text()\n",
    "        elif year == '2009' and gender == 'men':\n",
    "            result = soup.find(class_=\"Section1\").get_text()\n",
    "        else:\n",
    "            result = soup.find('pre').get_text()\n",
    "        with open(os.path.join(r'/Users/pankaj/dev/git/smu/qtw/case_study2/data', '{}_{}.txt'.format(gender, year)),\n",
    "                  'w+') as f:\n",
    "            f.writelines(result)\n",
    "\n",
    "        print(result[:100])\n",
    "\n",
    "\n",
    "#scrap_runs(menURLs, 'men')\n",
    "\n",
    "scrap_runs(womenURLs, 'women')"
   ]
  }
 ],
 "metadata": {
  "kernelspec": {
   "display_name": "Python 3",
   "language": "python",
   "name": "python3"
  },
  "language_info": {
   "codemirror_mode": {
    "name": "ipython",
    "version": 3
   },
   "file_extension": ".py",
   "mimetype": "text/x-python",
   "name": "python",
   "nbconvert_exporter": "python",
   "pygments_lexer": "ipython3",
   "version": "3.7.6"
  }
 },
 "nbformat": 4,
 "nbformat_minor": 4
}
