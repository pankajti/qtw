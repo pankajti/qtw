{
 "cells": [
  {
   "cell_type": "code",
   "execution_count": 6,
   "metadata": {},
   "outputs": [],
   "source": [
    "from tensorflow.keras import Sequential\n",
    "from tensorflow.keras.layers import Dense\n",
    "from tensorflow.keras.optimizers import SGD\n",
    "from tensorflow.keras.optimizers.schedules import ExponentialDecay\n",
    "from tensorflow import random_normal_initializer\n",
    "from tensorflow.keras.callbacks import EarlyStopping"
   ]
  },
  {
   "cell_type": "code",
   "execution_count": 5,
   "metadata": {},
   "outputs": [],
   "source": [
    "model = Sequential()\n",
    "# decay = ExponentialDecay(0.05)\n",
    "opt = SGD(learning_rate=0.05)\n",
    "init_first = random_normal_initializer(stddev=0.1)\n",
    "init_hidden = random_normal_initializer(stddev=0.05)\n",
    "init_output = random_normal_initializer(stddev=0.001)\n",
    "es = EarlyStopping(monitor='val_loss', min_delta=0.00001, patience=10)\n",
    "\n",
    "model.add(Dense(300, activation='tanh', kernel_initializer=init_first))\n",
    "model.add(Dense(300, activation='tanh', kernel_initializer=init_hidden))\n",
    "model.add(Dense(300, activation='tanh', kernel_initializer=init_hidden))\n",
    "model.add(Dense(300, activation='tanh', kernel_initializer=init_hidden))\n",
    "model.add(Dense(300, activation='tanh', kernel_initializer=init_hidden))\n",
    "model.add(Dense(1, kernel_initializer=init_output))\n",
    "\n",
    "model.compile(loss='binary_crossentropy', optimizer=opt)\n",
    "\n",
    "# model.fit(X_train, y_train, epochs=1000, batch_size=100, callbacks=[es])"
   ]
  },
  {
   "cell_type": "code",
   "execution_count": null,
   "metadata": {},
   "outputs": [],
   "source": []
  }
 ],
 "metadata": {
  "kernelspec": {
   "display_name": "Python 3",
   "language": "python",
   "name": "python3"
  },
  "language_info": {
   "codemirror_mode": {
    "name": "ipython",
    "version": 3
   },
   "file_extension": ".py",
   "mimetype": "text/x-python",
   "name": "python",
   "nbconvert_exporter": "python",
   "pygments_lexer": "ipython3",
   "version": "3.7.7"
  }
 },
 "nbformat": 4,
 "nbformat_minor": 4
}
