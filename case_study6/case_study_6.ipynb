{
 "cells": [
  {
   "cell_type": "code",
   "execution_count": 117,
   "metadata": {},
   "outputs": [],
   "source": [
    "from tensorflow.keras import Sequential\n",
    "from tensorflow.keras.layers import Dense\n",
    "from tensorflow.keras.optimizers import SGD\n",
    "from tensorflow.keras.optimizers.schedules import ExponentialDecay\n",
    "from tensorflow import random_normal_initializer\n",
    "from tensorflow.keras.callbacks import EarlyStopping\n",
    "import numpy as np\n",
    "import tensorflow_datasets as tfds\n",
    "import pandas as pd"
   ]
  },
  {
   "cell_type": "code",
   "execution_count": 118,
   "metadata": {},
   "outputs": [],
   "source": [
    "model = Sequential()\n",
    "# decay = ExponentialDecay(0.05)\n",
    "opt = SGD(learning_rate=0.05)\n",
    "init_first = random_normal_initializer(stddev=0.1)\n",
    "init_hidden = random_normal_initializer(stddev=0.05)\n",
    "init_output = random_normal_initializer(stddev=0.001)\n",
    "es = EarlyStopping(monitor='binary_crossentropy', min_delta=0.00001, patience=10)\n",
    "\n",
    "model.add(Dense(300, activation='tanh', kernel_initializer=init_first))\n",
    "model.add(Dense(300, activation='tanh', kernel_initializer=init_hidden))\n",
    "model.add(Dense(300, activation='tanh', kernel_initializer=init_hidden))\n",
    "model.add(Dense(300, activation='tanh', kernel_initializer=init_hidden))\n",
    "model.add(Dense(300, activation='tanh', kernel_initializer=init_hidden))\n",
    "model.add(Dense(1, kernel_initializer=init_output))\n",
    "\n",
    "model.compile(loss='binary_crossentropy', optimizer=opt, metrics = ['binary_crossentropy'])"
   ]
  },
  {
   "cell_type": "code",
   "execution_count": 127,
   "metadata": {},
   "outputs": [],
   "source": [
    "data_size = 100000\n",
    "higgs_data = tfds.load(\"higgs\")\n",
    "higgs_train = higgs_data['train']\n",
    "h_ds = higgs_train.take(data_size)\n",
    "df = pd.DataFrame(h_ds.as_numpy_iterator())"
   ]
  },
  {
   "cell_type": "code",
   "execution_count": 128,
   "metadata": {},
   "outputs": [],
   "source": [
    "X_train = np.array(df.iloc[:, 1:])\n",
    "y_train =  np.array(df.iloc[:, :1] )"
   ]
  },
  {
   "cell_type": "code",
   "execution_count": 129,
   "metadata": {},
   "outputs": [
    {
     "name": "stdout",
     "output_type": "stream",
     "text": [
      "Train on 100000 samples\n",
      "Epoch 1/1000\n",
      "100000/100000 [==============================] - 3s 32us/sample - loss: 7.1400 - binary_crossentropy: 7.1400\n",
      "Epoch 2/1000\n",
      "100000/100000 [==============================] - 3s 32us/sample - loss: 7.1400 - binary_crossentropy: 7.1400\n",
      "Epoch 3/1000\n",
      "100000/100000 [==============================] - 3s 33us/sample - loss: 7.1400 - binary_crossentropy: 7.1400\n",
      "Epoch 4/1000\n",
      "100000/100000 [==============================] - 3s 32us/sample - loss: 7.1400 - binary_crossentropy: 7.1400\n",
      "Epoch 5/1000\n",
      "100000/100000 [==============================] - 3s 32us/sample - loss: 7.1400 - binary_crossentropy: 7.1400\n",
      "Epoch 6/1000\n",
      "100000/100000 [==============================] - 3s 32us/sample - loss: 7.1400 - binary_crossentropy: 7.1400\n",
      "Epoch 7/1000\n",
      "100000/100000 [==============================] - 3s 33us/sample - loss: 7.1400 - binary_crossentropy: 7.1400\n",
      "Epoch 8/1000\n",
      "100000/100000 [==============================] - 3s 32us/sample - loss: 7.1400 - binary_crossentropy: 7.1400\n",
      "Epoch 9/1000\n",
      "100000/100000 [==============================] - 3s 32us/sample - loss: 7.1400 - binary_crossentropy: 7.1400\n",
      "Epoch 10/1000\n",
      "100000/100000 [==============================] - 3s 34us/sample - loss: 7.1400 - binary_crossentropy: 7.1400\n",
      "Epoch 11/1000\n",
      "100000/100000 [==============================] - 3s 33us/sample - loss: 7.1400 - binary_crossentropy: 7.1400\n"
     ]
    },
    {
     "data": {
      "text/plain": [
       "<tensorflow.python.keras.callbacks.History at 0x7ff8a0f65f10>"
      ]
     },
     "execution_count": 129,
     "metadata": {},
     "output_type": "execute_result"
    }
   ],
   "source": [
    "model.fit(X_train, y_train, epochs=1000, batch_size=100, callbacks=[es])"
   ]
  },
  {
   "cell_type": "code",
   "execution_count": null,
   "metadata": {},
   "outputs": [],
   "source": []
  },
  {
   "cell_type": "code",
   "execution_count": null,
   "metadata": {},
   "outputs": [],
   "source": []
  },
  {
   "cell_type": "code",
   "execution_count": null,
   "metadata": {},
   "outputs": [],
   "source": []
  }
 ],
 "metadata": {
  "kernelspec": {
   "display_name": "Python 3",
   "language": "python",
   "name": "python3"
  },
  "language_info": {
   "codemirror_mode": {
    "name": "ipython",
    "version": 3
   },
   "file_extension": ".py",
   "mimetype": "text/x-python",
   "name": "python",
   "nbconvert_exporter": "python",
   "pygments_lexer": "ipython3",
   "version": "3.7.6"
  }
 },
 "nbformat": 4,
 "nbformat_minor": 4
}
